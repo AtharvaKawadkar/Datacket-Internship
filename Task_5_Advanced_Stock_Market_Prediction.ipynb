{
  "nbformat": 4,
  "nbformat_minor": 0,
  "metadata": {
    "colab": {
      "name": "Task 5-Advanced Stock Market Prediction.ipynb",
      "provenance": [],
      "collapsed_sections": [],
      "authorship_tag": "ABX9TyNIlp1Ju8Eg64lapU6B1KFk",
      "include_colab_link": true
    },
    "kernelspec": {
      "name": "python3",
      "display_name": "Python 3"
    },
    "language_info": {
      "name": "python"
    }
  },
  "cells": [
    {
      "cell_type": "markdown",
      "metadata": {
        "id": "view-in-github",
        "colab_type": "text"
      },
      "source": [
        "<a href=\"https://colab.research.google.com/github/AtharvaKawadkar/Datacket-Internship/blob/main/Task_5_Advanced_Stock_Market_Prediction.ipynb\" target=\"_parent\"><img src=\"https://colab.research.google.com/assets/colab-badge.svg\" alt=\"Open In Colab\"/></a>"
      ]
    },
    {
      "cell_type": "markdown",
      "source": [
        "Importing Libraries"
      ],
      "metadata": {
        "id": "T0tVaAFe2LyV"
      }
    },
    {
      "cell_type": "code",
      "execution_count": 4,
      "metadata": {
        "id": "dttHTtUKyylA"
      },
      "outputs": [],
      "source": [
        "import numpy as np\n",
        "import pandas as pd\n",
        "import matplotlib.pyplot as plt\n",
        "from keras.models import Sequential\n",
        "from keras.layers import Dense, LSTM\n",
        "import math\n",
        "from sklearn.preprocessing import MinMaxScaler\n",
        "import datetime as dt\n",
        "import pandas_datareader as web"
      ]
    },
    {
      "cell_type": "code",
      "source": [
        "data = pd.read_csv(\"/content/TATAMOTORS.NS.csv\")\n",
        "data"
      ],
      "metadata": {
        "colab": {
          "base_uri": "https://localhost:8080/",
          "height": 424
        },
        "id": "FJw54xmyy97u",
        "outputId": "1254ea5a-c9bd-41b8-81c3-d7b22253dd18"
      },
      "execution_count": 5,
      "outputs": [
        {
          "output_type": "execute_result",
          "data": {
            "text/plain": [
              "           Date        Open        High         Low       Close   Adj Close  \\\n",
              "0    2021-07-16  311.100006  315.450012  310.500000  311.250000  311.250000   \n",
              "1    2021-07-19  308.950012  310.299988  306.000000  308.850006  308.850006   \n",
              "2    2021-07-20  307.000000  308.000000  301.049988  302.149994  302.149994   \n",
              "3    2021-07-22  305.500000  307.450012  301.049988  302.549988  302.549988   \n",
              "4    2021-07-23  300.500000  301.899994  295.000000  295.549988  295.549988   \n",
              "..          ...         ...         ...         ...         ...         ...   \n",
              "244  2022-07-11  438.049988  441.200012  433.450012  437.049988  437.049988   \n",
              "245  2022-07-12  433.000000  435.000000  428.149994  430.549988  430.549988   \n",
              "246  2022-07-13  432.700012  435.850006  425.649994  427.100006  427.100006   \n",
              "247  2022-07-14  428.000000  431.250000  423.299988  428.049988  428.049988   \n",
              "248  2022-07-15  430.649994  441.750000  429.700012  440.200012  440.200012   \n",
              "\n",
              "       Volume  \n",
              "0    25148606  \n",
              "1    21346348  \n",
              "2    27672567  \n",
              "3    21338361  \n",
              "4    33435130  \n",
              "..        ...  \n",
              "244  12619654  \n",
              "245   9518822  \n",
              "246  10181698  \n",
              "247  10744547  \n",
              "248  15774084  \n",
              "\n",
              "[249 rows x 7 columns]"
            ],
            "text/html": [
              "\n",
              "  <div id=\"df-efd62f57-f113-410c-88d7-3dcf78c4a3e9\">\n",
              "    <div class=\"colab-df-container\">\n",
              "      <div>\n",
              "<style scoped>\n",
              "    .dataframe tbody tr th:only-of-type {\n",
              "        vertical-align: middle;\n",
              "    }\n",
              "\n",
              "    .dataframe tbody tr th {\n",
              "        vertical-align: top;\n",
              "    }\n",
              "\n",
              "    .dataframe thead th {\n",
              "        text-align: right;\n",
              "    }\n",
              "</style>\n",
              "<table border=\"1\" class=\"dataframe\">\n",
              "  <thead>\n",
              "    <tr style=\"text-align: right;\">\n",
              "      <th></th>\n",
              "      <th>Date</th>\n",
              "      <th>Open</th>\n",
              "      <th>High</th>\n",
              "      <th>Low</th>\n",
              "      <th>Close</th>\n",
              "      <th>Adj Close</th>\n",
              "      <th>Volume</th>\n",
              "    </tr>\n",
              "  </thead>\n",
              "  <tbody>\n",
              "    <tr>\n",
              "      <th>0</th>\n",
              "      <td>2021-07-16</td>\n",
              "      <td>311.100006</td>\n",
              "      <td>315.450012</td>\n",
              "      <td>310.500000</td>\n",
              "      <td>311.250000</td>\n",
              "      <td>311.250000</td>\n",
              "      <td>25148606</td>\n",
              "    </tr>\n",
              "    <tr>\n",
              "      <th>1</th>\n",
              "      <td>2021-07-19</td>\n",
              "      <td>308.950012</td>\n",
              "      <td>310.299988</td>\n",
              "      <td>306.000000</td>\n",
              "      <td>308.850006</td>\n",
              "      <td>308.850006</td>\n",
              "      <td>21346348</td>\n",
              "    </tr>\n",
              "    <tr>\n",
              "      <th>2</th>\n",
              "      <td>2021-07-20</td>\n",
              "      <td>307.000000</td>\n",
              "      <td>308.000000</td>\n",
              "      <td>301.049988</td>\n",
              "      <td>302.149994</td>\n",
              "      <td>302.149994</td>\n",
              "      <td>27672567</td>\n",
              "    </tr>\n",
              "    <tr>\n",
              "      <th>3</th>\n",
              "      <td>2021-07-22</td>\n",
              "      <td>305.500000</td>\n",
              "      <td>307.450012</td>\n",
              "      <td>301.049988</td>\n",
              "      <td>302.549988</td>\n",
              "      <td>302.549988</td>\n",
              "      <td>21338361</td>\n",
              "    </tr>\n",
              "    <tr>\n",
              "      <th>4</th>\n",
              "      <td>2021-07-23</td>\n",
              "      <td>300.500000</td>\n",
              "      <td>301.899994</td>\n",
              "      <td>295.000000</td>\n",
              "      <td>295.549988</td>\n",
              "      <td>295.549988</td>\n",
              "      <td>33435130</td>\n",
              "    </tr>\n",
              "    <tr>\n",
              "      <th>...</th>\n",
              "      <td>...</td>\n",
              "      <td>...</td>\n",
              "      <td>...</td>\n",
              "      <td>...</td>\n",
              "      <td>...</td>\n",
              "      <td>...</td>\n",
              "      <td>...</td>\n",
              "    </tr>\n",
              "    <tr>\n",
              "      <th>244</th>\n",
              "      <td>2022-07-11</td>\n",
              "      <td>438.049988</td>\n",
              "      <td>441.200012</td>\n",
              "      <td>433.450012</td>\n",
              "      <td>437.049988</td>\n",
              "      <td>437.049988</td>\n",
              "      <td>12619654</td>\n",
              "    </tr>\n",
              "    <tr>\n",
              "      <th>245</th>\n",
              "      <td>2022-07-12</td>\n",
              "      <td>433.000000</td>\n",
              "      <td>435.000000</td>\n",
              "      <td>428.149994</td>\n",
              "      <td>430.549988</td>\n",
              "      <td>430.549988</td>\n",
              "      <td>9518822</td>\n",
              "    </tr>\n",
              "    <tr>\n",
              "      <th>246</th>\n",
              "      <td>2022-07-13</td>\n",
              "      <td>432.700012</td>\n",
              "      <td>435.850006</td>\n",
              "      <td>425.649994</td>\n",
              "      <td>427.100006</td>\n",
              "      <td>427.100006</td>\n",
              "      <td>10181698</td>\n",
              "    </tr>\n",
              "    <tr>\n",
              "      <th>247</th>\n",
              "      <td>2022-07-14</td>\n",
              "      <td>428.000000</td>\n",
              "      <td>431.250000</td>\n",
              "      <td>423.299988</td>\n",
              "      <td>428.049988</td>\n",
              "      <td>428.049988</td>\n",
              "      <td>10744547</td>\n",
              "    </tr>\n",
              "    <tr>\n",
              "      <th>248</th>\n",
              "      <td>2022-07-15</td>\n",
              "      <td>430.649994</td>\n",
              "      <td>441.750000</td>\n",
              "      <td>429.700012</td>\n",
              "      <td>440.200012</td>\n",
              "      <td>440.200012</td>\n",
              "      <td>15774084</td>\n",
              "    </tr>\n",
              "  </tbody>\n",
              "</table>\n",
              "<p>249 rows × 7 columns</p>\n",
              "</div>\n",
              "      <button class=\"colab-df-convert\" onclick=\"convertToInteractive('df-efd62f57-f113-410c-88d7-3dcf78c4a3e9')\"\n",
              "              title=\"Convert this dataframe to an interactive table.\"\n",
              "              style=\"display:none;\">\n",
              "        \n",
              "  <svg xmlns=\"http://www.w3.org/2000/svg\" height=\"24px\"viewBox=\"0 0 24 24\"\n",
              "       width=\"24px\">\n",
              "    <path d=\"M0 0h24v24H0V0z\" fill=\"none\"/>\n",
              "    <path d=\"M18.56 5.44l.94 2.06.94-2.06 2.06-.94-2.06-.94-.94-2.06-.94 2.06-2.06.94zm-11 1L8.5 8.5l.94-2.06 2.06-.94-2.06-.94L8.5 2.5l-.94 2.06-2.06.94zm10 10l.94 2.06.94-2.06 2.06-.94-2.06-.94-.94-2.06-.94 2.06-2.06.94z\"/><path d=\"M17.41 7.96l-1.37-1.37c-.4-.4-.92-.59-1.43-.59-.52 0-1.04.2-1.43.59L10.3 9.45l-7.72 7.72c-.78.78-.78 2.05 0 2.83L4 21.41c.39.39.9.59 1.41.59.51 0 1.02-.2 1.41-.59l7.78-7.78 2.81-2.81c.8-.78.8-2.07 0-2.86zM5.41 20L4 18.59l7.72-7.72 1.47 1.35L5.41 20z\"/>\n",
              "  </svg>\n",
              "      </button>\n",
              "      \n",
              "  <style>\n",
              "    .colab-df-container {\n",
              "      display:flex;\n",
              "      flex-wrap:wrap;\n",
              "      gap: 12px;\n",
              "    }\n",
              "\n",
              "    .colab-df-convert {\n",
              "      background-color: #E8F0FE;\n",
              "      border: none;\n",
              "      border-radius: 50%;\n",
              "      cursor: pointer;\n",
              "      display: none;\n",
              "      fill: #1967D2;\n",
              "      height: 32px;\n",
              "      padding: 0 0 0 0;\n",
              "      width: 32px;\n",
              "    }\n",
              "\n",
              "    .colab-df-convert:hover {\n",
              "      background-color: #E2EBFA;\n",
              "      box-shadow: 0px 1px 2px rgba(60, 64, 67, 0.3), 0px 1px 3px 1px rgba(60, 64, 67, 0.15);\n",
              "      fill: #174EA6;\n",
              "    }\n",
              "\n",
              "    [theme=dark] .colab-df-convert {\n",
              "      background-color: #3B4455;\n",
              "      fill: #D2E3FC;\n",
              "    }\n",
              "\n",
              "    [theme=dark] .colab-df-convert:hover {\n",
              "      background-color: #434B5C;\n",
              "      box-shadow: 0px 1px 3px 1px rgba(0, 0, 0, 0.15);\n",
              "      filter: drop-shadow(0px 1px 2px rgba(0, 0, 0, 0.3));\n",
              "      fill: #FFFFFF;\n",
              "    }\n",
              "  </style>\n",
              "\n",
              "      <script>\n",
              "        const buttonEl =\n",
              "          document.querySelector('#df-efd62f57-f113-410c-88d7-3dcf78c4a3e9 button.colab-df-convert');\n",
              "        buttonEl.style.display =\n",
              "          google.colab.kernel.accessAllowed ? 'block' : 'none';\n",
              "\n",
              "        async function convertToInteractive(key) {\n",
              "          const element = document.querySelector('#df-efd62f57-f113-410c-88d7-3dcf78c4a3e9');\n",
              "          const dataTable =\n",
              "            await google.colab.kernel.invokeFunction('convertToInteractive',\n",
              "                                                     [key], {});\n",
              "          if (!dataTable) return;\n",
              "\n",
              "          const docLinkHtml = 'Like what you see? Visit the ' +\n",
              "            '<a target=\"_blank\" href=https://colab.research.google.com/notebooks/data_table.ipynb>data table notebook</a>'\n",
              "            + ' to learn more about interactive tables.';\n",
              "          element.innerHTML = '';\n",
              "          dataTable['output_type'] = 'display_data';\n",
              "          await google.colab.output.renderOutput(dataTable, element);\n",
              "          const docLink = document.createElement('div');\n",
              "          docLink.innerHTML = docLinkHtml;\n",
              "          element.appendChild(docLink);\n",
              "        }\n",
              "      </script>\n",
              "    </div>\n",
              "  </div>\n",
              "  "
            ]
          },
          "metadata": {},
          "execution_count": 5
        }
      ]
    },
    {
      "cell_type": "code",
      "source": [
        "plt.figure(figsize=(10,3))\n",
        "plt.xlabel('Date', fontsize=12)\n",
        "plt.ylabel('Close', fontsize=12)\n",
        "plt.plot(data.Date, data.Close,color='red')"
      ],
      "metadata": {
        "colab": {
          "base_uri": "https://localhost:8080/",
          "height": 245
        },
        "id": "ghFy2pjPzZ64",
        "outputId": "8a018b9f-df44-4bae-fb37-6fcc0c0c52a8"
      },
      "execution_count": 6,
      "outputs": [
        {
          "output_type": "execute_result",
          "data": {
            "text/plain": [
              "[<matplotlib.lines.Line2D at 0x7fa1ad002810>]"
            ]
          },
          "metadata": {},
          "execution_count": 6
        },
        {
          "output_type": "display_data",
          "data": {
            "text/plain": [
              "<Figure size 720x216 with 1 Axes>"
            ],
            "image/png": "[encoded data removed]"
          },
          "metadata": {
            "needs_background": "light"
          }
        }
      ]
    },
    {
      "cell_type": "markdown",
      "source": [
        "Creating a new Dataframe and Training data"
      ],
      "metadata": {
        "id": "t9uJAFHR2Xns"
      }
    },
    {
      "cell_type": "code",
      "source": [
        "# 1. Filter out the closing market price data\n",
        "close_data = data.filter(['Close'])\n",
        " \n",
        "# 2. Convert the data into array for easy evaluation\n",
        "dataset = close_data.values\n",
        " \n",
        "# 3. Scale/Normalize the data to make all values between 0 and 1\n",
        "scaler = MinMaxScaler(feature_range=(0, 1))\n",
        "scaled_data = scaler.fit_transform(dataset)\n",
        " \n",
        "# 4. Creating training data size : 70% of the data\n",
        "training_data_len = math.ceil(len(dataset) *.7)\n",
        "train_data = scaled_data[0:training_data_len  , : ]\n",
        " \n",
        "# 5. Separating the data into x and y data\n",
        "x_train_data=[]\n",
        "y_train_data =[]\n",
        "for i in range(60,len(train_data)):\n",
        "    x_train_data=list(x_train_data)\n",
        "    y_train_data=list(y_train_data)\n",
        "    x_train_data.append(train_data[i-60:i,0])\n",
        "    y_train_data.append(train_data[i,0])\n",
        " \n",
        "    # 6. Converting the training x and y values to numpy arrays\n",
        "    x_train_data1, y_train_data1 = np.array(x_train_data), np.array(y_train_data)\n",
        " \n",
        "    # 7. Reshaping training s and y data to make the calculations easier\n",
        "    x_train_data2 = np.reshape(x_train_data1, (x_train_data1.shape[0],x_train_data1.shape[1],1))"
      ],
      "metadata": {
        "id": "_zp7TpEK0JD-"
      },
      "execution_count": 7,
      "outputs": []
    },
    {
      "cell_type": "markdown",
      "source": [
        "Building LSTM Model"
      ],
      "metadata": {
        "id": "q35uwqSo2fJc"
      }
    },
    {
      "cell_type": "code",
      "source": [
        "model = Sequential()\n",
        "model.add(LSTM(units=50, return_sequences=True,input_shape=(x_train_data2.shape[1],1)))\n",
        "model.add(LSTM(units=50, return_sequences=False))\n",
        "model.add(Dense(units=25))\n",
        "model.add(Dense(units=1))"
      ],
      "metadata": {
        "id": "XzRbXC4C1HSN"
      },
      "execution_count": 8,
      "outputs": []
    },
    {
      "cell_type": "markdown",
      "source": [
        "Compiling the Model"
      ],
      "metadata": {
        "id": "5ScjGfNh2nTa"
      }
    },
    {
      "cell_type": "code",
      "source": [
        "model.compile(optimizer='adam', loss='mean_squared_error')\n",
        "model.fit(x_train_data2, y_train_data1, batch_size=1, epochs=1)"
      ],
      "metadata": {
        "colab": {
          "base_uri": "https://localhost:8080/"
        },
        "id": "L4Rb6AOF1Qkr",
        "outputId": "d5cdadab-0677-4b79-dd95-454b05754921"
      },
      "execution_count": 9,
      "outputs": [
        {
          "output_type": "stream",
          "name": "stdout",
          "text": [
            "115/115 [==============================] - 7s 28ms/step - loss: 0.0364\n"
          ]
        },
        {
          "output_type": "execute_result",
          "data": {
            "text/plain": [
              "<keras.callbacks.History at 0x7fa1a85bdbd0>"
            ]
          },
          "metadata": {},
          "execution_count": 9
        }
      ]
    },
    {
      "cell_type": "markdown",
      "source": [
        "Testing the model on testing data"
      ],
      "metadata": {
        "id": "lgvzOSTi2rsf"
      }
    },
    {
      "cell_type": "code",
      "source": [
        "# 1. Creating a dataset for testing\n",
        "test_data = scaled_data[training_data_len - 60: , : ]\n",
        "x_test = []\n",
        "y_test =  dataset[training_data_len : , : ]\n",
        "for i in range(60,len(test_data)):\n",
        "    x_test.append(test_data[i-60:i,0])\n",
        " \n",
        "# 2.  Convert the values into arrays for easier computation\n",
        "x_test = np.array(x_test)\n",
        "x_test = np.reshape(x_test, (x_test.shape[0],x_test.shape[1],1))\n",
        " \n",
        "# 3. Making predictions on the testing data\n",
        "predictions = model.predict(x_test)\n",
        "predictions = scaler.inverse_transform(predictions)"
      ],
      "metadata": {
        "id": "aVocq4w61XAa"
      },
      "execution_count": 10,
      "outputs": []
    },
    {
      "cell_type": "markdown",
      "source": [
        "Make Predictions"
      ],
      "metadata": {
        "id": "jItZfOD72ymM"
      }
    },
    {
      "cell_type": "code",
      "source": [
        "train = data[:training_data_len]\n",
        "valid = data[training_data_len:]\n",
        " \n",
        "valid['Predictions'] = predictions\n",
        "plt.figure(figsize=(20,8))\n",
        "plt.title('Model')\n",
        "plt.xlabel('Date')\n",
        "plt.ylabel('Close')\n",
        " \n",
        "plt.plot(train['Close'])\n",
        "plt.plot(valid[['Close', 'Predictions']])\n",
        " \n",
        "plt.legend(['Train', 'Val', 'Predictions'], loc='lower right')\n",
        " \n",
        "plt.show()"
      ],
      "metadata": {
        "colab": {
          "base_uri": "https://localhost:8080/",
          "height": 617
        },
        "id": "ONLkgmmP1aSk",
        "outputId": "4eda5361-f37a-4ab1-cdf1-1bdc566af3fe"
      },
      "execution_count": 12,
      "outputs": [
        {
          "output_type": "stream",
          "name": "stderr",
          "text": [
            "/usr/local/lib/python3.7/dist-packages/ipykernel_launcher.py:4: SettingWithCopyWarning: \n",
            "A value is trying to be set on a copy of a slice from a DataFrame.\n",
            "Try using .loc[row_indexer,col_indexer] = value instead\n",
            "\n",
            "See the caveats in the documentation: https://pandas.pydata.org/pandas-docs/stable/user_guide/indexing.html#returning-a-view-versus-a-copy\n",
            "  after removing the cwd from sys.path.\n"
          ]
        },
        {
          "output_type": "display_data",
          "data": {
            "text/plain": [
              "<Figure size 1440x576 with 1 Axes>"
            ],
            "image/png": "[encoded data removed]"
          },
          "metadata": {
            "needs_background": "light"
          }
        }
      ]
    },
    {
      "cell_type": "code",
      "source": [
        "table = pd.DataFrame(data=valid, columns=['Close','Predictions'])\n",
        "table"
      ],
      "metadata": {
        "colab": {
          "base_uri": "https://localhost:8080/",
          "height": 424
        },
        "id": "d3OFOt4C1um6",
        "outputId": "8e7f7ccb-a766-45d4-ce09-e84dc81526f6"
      },
      "execution_count": 13,
      "outputs": [
        {
          "output_type": "execute_result",
          "data": {
            "text/plain": [
              "          Close  Predictions\n",
              "175  433.750000   451.559204\n",
              "176  441.149994   452.370758\n",
              "177  446.750000   453.330475\n",
              "178  458.049988   454.542603\n",
              "179  456.149994   456.298279\n",
              "..          ...          ...\n",
              "244  437.049988   443.566559\n",
              "245  430.549988   445.761810\n",
              "246  427.100006   447.618469\n",
              "247  428.049988   449.008606\n",
              "248  440.200012   450.063812\n",
              "\n",
              "[74 rows x 2 columns]"
            ],
            "text/html": [
              "\n",
              "  <div id=\"df-34b5e57f-57ca-4257-9e96-d7a8e2333e7b\">\n",
              "    <div class=\"colab-df-container\">\n",
              "      <div>\n",
              "<style scoped>\n",
              "    .dataframe tbody tr th:only-of-type {\n",
              "        vertical-align: middle;\n",
              "    }\n",
              "\n",
              "    .dataframe tbody tr th {\n",
              "        vertical-align: top;\n",
              "    }\n",
              "\n",
              "    .dataframe thead th {\n",
              "        text-align: right;\n",
              "    }\n",
              "</style>\n",
              "<table border=\"1\" class=\"dataframe\">\n",
              "  <thead>\n",
              "    <tr style=\"text-align: right;\">\n",
              "      <th></th>\n",
              "      <th>Close</th>\n",
              "      <th>Predictions</th>\n",
              "    </tr>\n",
              "  </thead>\n",
              "  <tbody>\n",
              "    <tr>\n",
              "      <th>175</th>\n",
              "      <td>433.750000</td>\n",
              "      <td>451.559204</td>\n",
              "    </tr>\n",
              "    <tr>\n",
              "      <th>176</th>\n",
              "      <td>441.149994</td>\n",
              "      <td>452.370758</td>\n",
              "    </tr>\n",
              "    <tr>\n",
              "      <th>177</th>\n",
              "      <td>446.750000</td>\n",
              "      <td>453.330475</td>\n",
              "    </tr>\n",
              "    <tr>\n",
              "      <th>178</th>\n",
              "      <td>458.049988</td>\n",
              "      <td>454.542603</td>\n",
              "    </tr>\n",
              "    <tr>\n",
              "      <th>179</th>\n",
              "      <td>456.149994</td>\n",
              "      <td>456.298279</td>\n",
              "    </tr>\n",
              "    <tr>\n",
              "      <th>...</th>\n",
              "      <td>...</td>\n",
              "      <td>...</td>\n",
              "    </tr>\n",
              "    <tr>\n",
              "      <th>244</th>\n",
              "      <td>437.049988</td>\n",
              "      <td>443.566559</td>\n",
              "    </tr>\n",
              "    <tr>\n",
              "      <th>245</th>\n",
              "      <td>430.549988</td>\n",
              "      <td>445.761810</td>\n",
              "    </tr>\n",
              "    <tr>\n",
              "      <th>246</th>\n",
              "      <td>427.100006</td>\n",
              "      <td>447.618469</td>\n",
              "    </tr>\n",
              "    <tr>\n",
              "      <th>247</th>\n",
              "      <td>428.049988</td>\n",
              "      <td>449.008606</td>\n",
              "    </tr>\n",
              "    <tr>\n",
              "      <th>248</th>\n",
              "      <td>440.200012</td>\n",
              "      <td>450.063812</td>\n",
              "    </tr>\n",
              "  </tbody>\n",
              "</table>\n",
              "<p>74 rows × 2 columns</p>\n",
              "</div>\n",
              "      <button class=\"colab-df-convert\" onclick=\"convertToInteractive('df-34b5e57f-57ca-4257-9e96-d7a8e2333e7b')\"\n",
              "              title=\"Convert this dataframe to an interactive table.\"\n",
              "              style=\"display:none;\">\n",
              "        \n",
              "  <svg xmlns=\"http://www.w3.org/2000/svg\" height=\"24px\"viewBox=\"0 0 24 24\"\n",
              "       width=\"24px\">\n",
              "    <path d=\"M0 0h24v24H0V0z\" fill=\"none\"/>\n",
              "    <path d=\"M18.56 5.44l.94 2.06.94-2.06 2.06-.94-2.06-.94-.94-2.06-.94 2.06-2.06.94zm-11 1L8.5 8.5l.94-2.06 2.06-.94-2.06-.94L8.5 2.5l-.94 2.06-2.06.94zm10 10l.94 2.06.94-2.06 2.06-.94-2.06-.94-.94-2.06-.94 2.06-2.06.94z\"/><path d=\"M17.41 7.96l-1.37-1.37c-.4-.4-.92-.59-1.43-.59-.52 0-1.04.2-1.43.59L10.3 9.45l-7.72 7.72c-.78.78-.78 2.05 0 2.83L4 21.41c.39.39.9.59 1.41.59.51 0 1.02-.2 1.41-.59l7.78-7.78 2.81-2.81c.8-.78.8-2.07 0-2.86zM5.41 20L4 18.59l7.72-7.72 1.47 1.35L5.41 20z\"/>\n",
              "  </svg>\n",
              "      </button>\n",
              "      \n",
              "  <style>\n",
              "    .colab-df-container {\n",
              "      display:flex;\n",
              "      flex-wrap:wrap;\n",
              "      gap: 12px;\n",
              "    }\n",
              "\n",
              "    .colab-df-convert {\n",
              "      background-color: #E8F0FE;\n",
              "      border: none;\n",
              "      border-radius: 50%;\n",
              "      cursor: pointer;\n",
              "      display: none;\n",
              "      fill: #1967D2;\n",
              "      height: 32px;\n",
              "      padding: 0 0 0 0;\n",
              "      width: 32px;\n",
              "    }\n",
              "\n",
              "    .colab-df-convert:hover {\n",
              "      background-color: #E2EBFA;\n",
              "      box-shadow: 0px 1px 2px rgba(60, 64, 67, 0.3), 0px 1px 3px 1px rgba(60, 64, 67, 0.15);\n",
              "      fill: #174EA6;\n",
              "    }\n",
              "\n",
              "    [theme=dark] .colab-df-convert {\n",
              "      background-color: #3B4455;\n",
              "      fill: #D2E3FC;\n",
              "    }\n",
              "\n",
              "    [theme=dark] .colab-df-convert:hover {\n",
              "      background-color: #434B5C;\n",
              "      box-shadow: 0px 1px 3px 1px rgba(0, 0, 0, 0.15);\n",
              "      filter: drop-shadow(0px 1px 2px rgba(0, 0, 0, 0.3));\n",
              "      fill: #FFFFFF;\n",
              "    }\n",
              "  </style>\n",
              "\n",
              "      <script>\n",
              "        const buttonEl =\n",
              "          document.querySelector('#df-34b5e57f-57ca-4257-9e96-d7a8e2333e7b button.colab-df-convert');\n",
              "        buttonEl.style.display =\n",
              "          google.colab.kernel.accessAllowed ? 'block' : 'none';\n",
              "\n",
              "        async function convertToInteractive(key) {\n",
              "          const element = document.querySelector('#df-34b5e57f-57ca-4257-9e96-d7a8e2333e7b');\n",
              "          const dataTable =\n",
              "            await google.colab.kernel.invokeFunction('convertToInteractive',\n",
              "                                                     [key], {});\n",
              "          if (!dataTable) return;\n",
              "\n",
              "          const docLinkHtml = 'Like what you see? Visit the ' +\n",
              "            '<a target=\"_blank\" href=https://colab.research.google.com/notebooks/data_table.ipynb>data table notebook</a>'\n",
              "            + ' to learn more about interactive tables.';\n",
              "          element.innerHTML = '';\n",
              "          dataTable['output_type'] = 'display_data';\n",
              "          await google.colab.output.renderOutput(dataTable, element);\n",
              "          const docLink = document.createElement('div');\n",
              "          docLink.innerHTML = docLinkHtml;\n",
              "          element.appendChild(docLink);\n",
              "        }\n",
              "      </script>\n",
              "    </div>\n",
              "  </div>\n",
              "  "
            ]
          },
          "metadata": {},
          "execution_count": 13
        }
      ]
    }
  ]
}